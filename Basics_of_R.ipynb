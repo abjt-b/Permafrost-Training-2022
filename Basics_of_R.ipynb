{
  "nbformat": 4,
  "nbformat_minor": 0,
  "metadata": {
    "colab": {
      "name": "Basics_of_R_original.R",
      "provenance": [],
      "collapsed_sections": [],
      "include_colab_link": true
    },
    "kernelspec": {
      "name": "ir",
      "display_name": "R"
    },
    "language_info": {
      "name": "R"
    }
  },
  "cells": [
    {
      "cell_type": "markdown",
      "metadata": {
        "id": "view-in-github",
        "colab_type": "text"
      },
      "source": [
        "<a href=\"https://colab.research.google.com/github/abjt-b/Permafrost-Training-2022/blob/main/Basics_of_R.ipynb\" target=\"_parent\"><img src=\"https://colab.research.google.com/assets/colab-badge.svg\" alt=\"Open In Colab\"/></a>"
      ]
    },
    {
      "cell_type": "markdown",
      "source": [
        "![MicrosoftTeams-image.png](data:image/png;base64,/9j/4AAQSkZJRgABAQEAYABgAAD/4RDyRXhpZgAATU0AKgAAAAgABAE7AAIAAAANAAAISodpAAQAAAABAAAIWJydAAEAAAAaAAAQ0OocAAcAAAgMAAAAPgAAAAAc6gAAAAgAAAAAAAAAAAAAAAAAAAAAAAAAAAAAAAAAAAAAAAAAAAAAAAAAAAAAAAAAAAAAAAAAAAAAAAAAAAAAAAAAAAAAAAAAAAAAAAAAAAAAAAAAAAAAAAAAAAAAAAAAAAAAAAAAAAAAAAAAAAAAAAAAAAAAAAAAAAAAAAAAAAAAAAAAAAAAAAAAAAAAAAAAAAAAAAAAAAAAAAAAAAAAAAAAAAAAAAAAAAAAAAAAAAAAAAAAAAAAAAAAAAAAAAAAAAAAAAAAAAAAAAAAAAAAAAAAAAAAAAAAAAAAAAAAAAAAAAAAAAAAAAAAAAAAAAAAAAAAAAAAAAAAAAAAAAAAAAAAAAAAAAAAAAAAAAAAAAAAAAAAAAAAAAAAAAAAAAAAAAAAAAAAAAAAAAAAAAAAAAAAAAAAAAAAAAAAAAAAAAAAAAAAAAAAAAAAAAAAAAAAAAAAAAAAAAAAAAAAAAAAAAAAAAAAAAAAAAAAAAAAAAAAAAAAAAAAAAAAAAAAAAAAAAAAAAAAAAAAAAAAAAAAAAAAAAAAAAAAAAAAAAAAAAAAAAAAAAAAAAAAAAAAAAAAAAAAAAAAAAAAAAAAAAAAAAAAAAAAAAAAAAAAAAAAAAAAAAAAAAAAAAAAAAAAAAAAAAAAAAAAAAAAAAAAAAAAAAAAAAAAAAAAAAAAAAAAAAAAAAAAAAAAAAAAAAAAAAAAAAAAAAAAAAAAAAAAAAAAAAAAAAAAAAAAAAAAAAAAAAAAAAAAAAAAAAAAAAAAAAAAAAAAAAAAAAAAAAAAAAAAAAAAAAAAAAAAAAAAAAAAAAAAAAAAAAAAAAAAAAAAAAAAAAAAAAAAAAAAAAAAAAAAAAAAAAAAAAAAAAAAAAAAAAAAAAAAAAAAAAAAAAAAAAAAAAAAAAAAAAAAAAAAAAAAAAAAAAAAAAAAAAAAAAAAAAAAAAAAAAAAAAAAAAAAAAAAAAAAAAAAAAAAAAAAAAAAAAAAAAAAAAAAAAAAAAAAAAAAAAAAAAAAAAAAAAAAAAAAAAAAAAAAAAAAAAAAAAAAAAAAAAAAAAAAAAAAAAAAAAAAAAAAAAAAAAAAAAAAAAAAAAAAAAAAAAAAAAAAAAAAAAAAAAAAAAAAAAAAAAAAAAAAAAAAAAAAAAAAAAAAAAAAAAAAAAAAAAAAAAAAAAAAAAAAAAAAAAAAAAAAAAAAAAAAAAAAAAAAAAAAAAAAAAAAAAAAAAAAAAAAAAAAAAAAAAAAAAAAAAAAAAAAAAAAAAAAAAAAAAAAAAAAAAAAAAAAAAAAAAAAAAAAAAAAAAAAAAAAAAAAAAAAAAAAAAAAAAAAAAAAAAAAAAAAAAAAAAAAAAAAAAAAAAAAAAAAAAAAAAAAAAAAAAAAAAAAAAAAAAAAAAAAAAAAAAAAAAAAAAAAAAAAAAAAAAAAAAAAAAAAAAAAAAAAAAAAAAAAAAAAAAAAAAAAAAAAAAAAAAAAAAAAAAAAAAAAAAAAAAAAAAAAAAAAAAAAAAAAAAAAAAAAAAAAAAAAAAAAAAAAAAAAAAAAAAAAAAAAAAAAAAAAAAAAAAAAAAAAAAAAAAAAAAAAAAAAAAAAAAAAAAAAAAAAAAAAAAAAAAAAAAAAAAAAAAAAAAAAAAAAAAAAAAAAAAAAAAAAAAAAAAAAAAAAAAAAAAAAAAAAAAAAAAAAAAAAAAAAAAAAAAAAAAAAAAAAAAAAAAAAAAAAAAAAAAAAAAAAAAAAAAAAAAAAAAAAAAAAAAAAAAAAAAAAAAAAAAAAAAAAAAAAAAAAAAAAAAAAAAAAAAAAAAAAAAAAAAAAAAAAAAAAAAAAAAAAAAAAAAAAAAAAAAAAAAAAAAAAAAAAAAAAAAAAAAAAAAAAAAAAAAAAAAAAAAAAAAAAAAAAAAAAAAAAAAAAAAAAAAAAAAAAAAAAAAAAAAAAAAAAAAAAAAAAAAAAAAAAAAAAAAAAAAAAAAAAAAAAAAAAAAAAAAAAAAAAAAAAAAAAAAAAAAAAAAAAAAAAAAAAAAAAAAAAAAAAAAAAAAAAAAAAAAAAAAAAAAAAAAAAAAAAAAAAAAAAAAAAAAAAAAAAAAAAAAAAAAAAAAAAAAAAAAAAAAAAAAAAAAAAAAAAAAAAAAAAAAAAAAAAAAAAAAAAAAAAAAAAAAAAAAAAAAAAAAAAAAAAAAAAAAAAAAAAAAAAAAAAAAAAAAAAAAAAAAAAAAAAAAAAAAAAAAAAAAAAAAAAAAAAAAAAAAAAAAAAAAAAAAAAAAAAAAAAAAAAAAAAAAAAAAAAAAAAAAAAAAAAAAAAAAAAAAAAAAAAAAAAAAAAAAAAAAAAAAAAAAAAAAAAAAAAAAAAAAAAAAAAAAAAAAAAAAAAAAAAAAAAAAAAAAAAAAAAAAAAAAAAAAAAAAAAAAAAAAAAAAAAAAAAAAAAAAAAAAAAAAAAAAAAAAAAAAAAAAAAAAAAAAAAAAAAAAAAAAAAAAAAAAAAAAAAAAAAAAAAAAAAAAAAAAAAAAAAAAAAAAAAAAAAAAAAAAAAAAAAAAAAAAAAAAAAAAAAAAAAAAAAAAAAAAAAAAAAAAAAAAAAAAAAAAAAAAAAAAAAAAAAAAAAAAAAAAAAAAAAAAAAAAAAAAAAAAAAAAAAAAAAAAAAAAAAAAAAAAAAAAAAAAAAAAAAAAAAAAAAAAAAAAAAAAAAAAAAAAAAAAAAAAAAAAAAAAAAAAAAAAAAAAAAAAAAAAAAAAAAAAAAAAAAAAAAAAAAAAAAAAAAAENoaW1pIFNlbGRvbgAAAAWQAwACAAAAFAAAEKaQBAACAAAAFAAAELqSkQACAAAAAzI0AACSkgACAAAAAzI0AADqHAAHAAAIDAAACJoAAAAAHOoAAAAIAAAAAAAAAAAAAAAAAAAAAAAAAAAAAAAAAAAAAAAAAAAAAAAAAAAAAAAAAAAAAAAAAAAAAAAAAAAAAAAAAAAAAAAAAAAAAAAAAAAAAAAAAAAAAAAAAAAAAAAAAAAAAAAAAAAAAAAAAAAAAAAAAAAAAAAAAAAAAAAAAAAAAAAAAAAAAAAAAAAAAAAAAAAAAAAAAAAAAAAAAAAAAAAAAAAAAAAAAAAAAAAAAAAAAAAAAAAAAAAAAAAAAAAAAAAAAAAAAAAAAAAAAAAAAAAAAAAAAAAAAAAAAAAAAAAAAAAAAAAAAAAAAAAAAAAAAAAAAAAAAAAAAAAAAAAAAAAAAAAAAAAAAAAAAAAAAAAAAAAAAAAAAAAAAAAAAAAAAAAAAAAAAAAAAAAAAAAAAAAAAAAAAAAAAAAAAAAAAAAAAAAAAAAAAAAAAAAAAAAAAAAAAAAAAAAAAAAAAAAAAAAAAAAAAAAAAAAAAAAAAAAAAAAAAAAAAAAAAAAAAAAAAAAAAAAAAAAAAAAAAAAAAAAAAAAAAAAAAAAAAAAAAAAAAAAAAAAAAAAAAAAAAAAAAAAAAAAAAAAAAAAAAAAAAAAAAAAAAAAAAAAAAAAAAAAAAAAAAAAAAAAAAAAAAAAAAAAAAAAAAAAAAAAAAAAAAAAAAAAAAAAAAAAAAAAAAAAAAAAAAAAAAAAAAAAAAAAAAAAAAAAAAAAAAAAAAAAAAAAAAAAAAAAAAAAAAAAAAAAAAAAAAAAAAAAAAAAAAAAAAAAAAAAAAAAAAAAAAAAAAAAAAAAAAAAAAAAAAAAAAAAAAAAAAAAAAAAAAAAAAAAAAAAAAAAAAAAAAAAAAAAAAAAAAAAAAAAAAAAAAAAAAAAAAAAAAAAAAAAAAAAAAAAAAAAAAAAAAAAAAAAAAAAAAAAAAAAAAAAAAAAAAAAAAAAAAAAAAAAAAAAAAAAAAAAAAAAAAAAAAAAAAAAAAAAAAAAAAAAAAAAAAAAAAAAAAAAAAAAAAAAAAAAAAAAAAAAAAAAAAAAAAAAAAAAAAAAAAAAAAAAAAAAAAAAAAAAAAAAAAAAAAAAAAAAAAAAAAAAAAAAAAAAAAAAAAAAAAAAAAAAAAAAAAAAAAAAAAAAAAAAAAAAAAAAAAAAAAAAAAAAAAAAAAAAAAAAAAAAAAAAAAAAAAAAAAAAAAAAAAAAAAAAAAAAAAAAAAAAAAAAAAAAAAAAAAAAAAAAAAAAAAAAAAAAAAAAAAAAAAAAAAAAAAAAAAAAAAAAAAAAAAAAAAAAAAAAAAAAAAAAAAAAAAAAAAAAAAAAAAAAAAAAAAAAAAAAAAAAAAAAAAAAAAAAAAAAAAAAAAAAAAAAAAAAAAAAAAAAAAAAAAAAAAAAAAAAAAAAAAAAAAAAAAAAAAAAAAAAAAAAAAAAAAAAAAAAAAAAAAAAAAAAAAAAAAAAAAAAAAAAAAAAAAAAAAAAAAAAAAAAAAAAAAAAAAAAAAAAAAAAAAAAAAAAAAAAAAAAAAAAAAAAAAAAAAAAAAAAAAAAAAAAAAAAAAAAAAAAAAAAAAAAAAAAAAAAAAAAAAAAAAAAAAAAAAAAAAAAAAAAAAAAAAAAAAAAAAAAAAAAAAAAAAAAAAAAAAAAAAAAAAAAAAAAAAAAAAAAAAAAAAAAAAAAAAAAAAAAAAAAAAAAAAAAAAAAAAAAAAAAAAAAAAAAAAAAAAAAAAAAAAAAAAAAAAAAAAAAAAAAAAAAAAAAAAAAAAAAAAAAAAAAAAAAAAAAAAAAAAAAAAAAAAAAAAAAAAAAAAAAAAAAAAAAAAAAAAAAAAAAAAAAAAAAAAAAAAAAAAAAAAAAAAAAAAAAAAAAAAAAAAAAAAAAAAAAAAAAAAAAAAAAAAAAAAAAAAAAAAAAAAAAAAAAAAAAAAAAAAAAAAAAAAAAAAAAAAAAAAAAAAAAAAAAAAAAAAAAAAAAAAAAAAAAAAAAAAAAAAAAAAAAAAAAAAAAAAAAAAAAAAAAAAAAAAAAAAAAAAAAAAAAAAAAAAAAAAAAAAAAAAAAAAAAAAAAAAAAAAAAAAAAAAAAAAAAAAAAAAAAAAAAAAAAAAAAAAAAAAAAAAAAAAAAAAAAAAAAAAAAAAAAAAAAAAAAAAAAAAAAAAAAAAAAAAAAAAAAAAAAAAAAAAAAAAAAAAAAAAAAAAAAAAAAAAAAAAAAAAAAAAAAAAAAAAAAAAAAAAAAAAAAAAAAAAAAAAAAAAAAAAAAAAAAAAAAAAAAAAAAAAAAAAAAAAAAAAAAAAAAAAAAAAAAAAAAAAAAAAAAAAAAAAAAAAAAAAAAAAAAAAAAAAAAAAAAAAAAAAAAAAAAAAAAAAAAAAAAAAAAAAAAAAAAAAAAAAAAAAAAAAAAAAAAAAAAAAAAAAAAAAAAAAAAAAAAAAAAAAAAAAAAAAAAAAAAAAAAAAAAAAAAAAAAAAAAAAAAAAAAAAAAAAAAAAAAAAAAAAAAAAAAAAAAAAAAAAAAAAAAAAAAAAAAAAAAAAAAAAAAAAAAAAAAAAAAAAAAAAAAAAAAAAAAAAAAAAAAAAAAAAAAAAAAAAAAAAAAAAAAAAAAAAAAAAAAAAAAAAAAAAAAAAAAAAAAAAAAAAAAAAAAAAAAAAAAAAAAAAAAAAAAAAAAAAAAAAAAAAAAAAAAAAAAAAAAAAAAAAAAAAAAAAAAAAAAAAAAAAAAAAAAAAAAAAAAAAAAAAAAAAAAAAAAAAAAAAAAAAAAAAAAAAAAAAAAAAAAyMDIyOjA2OjA5IDE0OjU5OjI1ADIwMjI6MDY6MDkgMTQ6NTk6MjUAAABDAGgAaQBtAGkAIABTAGUAbABkAG8AbgAAAP/hCx9odHRwOi8vbnMuYWRvYmUuY29tL3hhcC8xLjAvADw/eHBhY2tldCBiZWdpbj0n77u/JyBpZD0nVzVNME1wQ2VoaUh6cmVTek5UY3prYzlkJz8+DQo8eDp4bXBtZXRhIHhtbG5zOng9ImFkb2JlOm5zOm1ldGEvIj48cmRmOlJERiB4bWxuczpyZGY9Imh0dHA6Ly93d3cudzMub3JnLzE5OTkvMDIvMjItcmRmLXN5bnRheC1ucyMiPjxyZGY6RGVzY3JpcHRpb24gcmRmOmFib3V0PSJ1dWlkOmZhZjViZGQ1LWJhM2QtMTFkYS1hZDMxLWQzM2Q3NTE4MmYxYiIgeG1sbnM6ZGM9Imh0dHA6Ly9wdXJsLm9yZy9kYy9lbGVtZW50cy8xLjEvIi8+PHJkZjpEZXNjcmlwdGlvbiByZGY6YWJvdXQ9InV1aWQ6ZmFmNWJkZDUtYmEzZC0xMWRhLWFkMzEtZDMzZDc1MTgyZjFiIiB4bWxuczp4bXA9Imh0dHA6Ly9ucy5hZG9iZS5jb20veGFwLzEuMC8iPjx4bXA6Q3JlYXRlRGF0ZT4yMDIyLTA2LTA5VDE0OjU5OjI1LjI0MTwveG1wOkNyZWF0ZURhdGU+PC9yZGY6RGVzY3JpcHRpb24+PHJkZjpEZXNjcmlwdGlvbiByZGY6YWJvdXQ9InV1aWQ6ZmFmNWJkZDUtYmEzZC0xMWRhLWFkMzEtZDMzZDc1MTgyZjFiIiB4bWxuczpkYz0iaHR0cDovL3B1cmwub3JnL2RjL2VsZW1lbnRzLzEuMS8iPjxkYzpjcmVhdG9yPjxyZGY6U2VxIHhtbG5zOnJkZj0iaHR0cDovL3d3dy53My5vcmcvMTk5OS8wMi8yMi1yZGYtc3ludGF4LW5zIyI+PHJkZjpsaT5DaGltaSBTZWxkb248L3JkZjpsaT48L3JkZjpTZXE+DQoJCQk8L2RjOmNyZWF0b3I+PC9yZGY6RGVzY3JpcHRpb24+PC9yZGY6UkRGPjwveDp4bXBtZXRhPg0KICAgICAgICAgICAgICAgICAgICAgICAgICAgICAgICAgICAgICAgICAgICAgICAgICAgICAgICAgICAgICAgICAgICAgICAgICAgICAgICAgICAgICAgICAgICAgICAgICAgIAogICAgICAgICAgICAgICAgICAgICAgICAgICAgICAgICAgICAgICAgICAgICAgICAgICAgICAgICAgICAgICAgICAgICAgICAgICAgICAgICAgICAgICAgICAgICAgICAgICAgCiAgICAgICAgICAgICAgICAgICAgICAgICAgICAgICAgICAgICAgICAgICAgICAgICAgICAgICAgICAgICAgICAgICAgICAgICAgICAgICAgICAgICAgICAgICAgICAgICAgICAKICAgICAgICAgICAgICAgICAgICAgICAgICAgICAgICAgICAgICAgICAgICAgICAgICAgICAgICAgICAgICAgICAgICAgICAgICAgICAgICAgICAgICAgICAgICAgICAgICAgIAogICAgICAgICAgICAgICAgICAgICAgICAgICAgICAgICAgICAgICAgICAgICAgICAgICAgICAgICAgICAgICAgICAgICAgICAgICAgICAgICAgICAgICAgICAgICAgICAgICAgCiAgICAgICAgICAgICAgICAgICAgICAgICAgICAgICAgICAgICAgICAgICAgICAgICAgICAgICAgICAgICAgICAgICAgICAgICAgICAgICAgICAgICAgICAgICAgICAgICAgICAKICAgICAgICAgICAgICAgICAgICAgICAgICAgICAgICAgICAgICAgICAgICAgICAgICAgICAgICAgICAgICAgICAgICAgICAgICAgICAgICAgICAgICAgICAgICAgICAgICAgIAogICAgICAgICAgICAgICAgICAgICAgICAgICAgICAgICAgICAgICAgICAgICAgICAgICAgICAgICAgICAgICAgICAgICAgICAgICAgICAgICAgICAgICAgICAgICAgICAgICAgCiAgICAgICAgICAgICAgICAgICAgICAgICAgICAgICAgICAgICAgICAgICAgICAgICAgICAgICAgICAgICAgICAgICAgICAgICAgICAgICAgICAgICAgICAgICAgICAgICAgICAKICAgICAgICAgICAgICAgICAgICAgICAgICAgICAgICAgICAgICAgICAgICAgICAgICAgICAgICAgICAgICAgICAgICAgICAgICAgICAgICAgICAgICAgICAgICAgICAgICAgIAogICAgICAgICAgICAgICAgICAgICAgICAgICAgICAgICAgICAgICAgICAgICAgICAgICAgICAgICAgICAgICAgICAgICAgICAgICAgICAgICAgICAgICAgICAgICAgICAgICAgCiAgICAgICAgICAgICAgICAgICAgICAgICAgICAgICAgICAgICAgICAgICAgICAgICAgICAgICAgICAgICAgICAgICAgICAgICAgICAgICAgICAgICAgICAgICAgICAgICAgICAKICAgICAgICAgICAgICAgICAgICAgICAgICAgICAgICAgICAgICAgICAgICAgICAgICAgICAgICAgICAgICAgICAgICAgICAgICAgICAgICAgICAgICAgICAgICAgICAgICAgIAogICAgICAgICAgICAgICAgICAgICAgICAgICAgICAgICAgICAgICAgICAgICAgICAgICAgICAgICAgICAgICAgICAgICAgICAgICAgICAgICAgICAgICAgICAgICAgICAgICAgCiAgICAgICAgICAgICAgICAgICAgICAgICAgICAgICAgICAgICAgICAgICAgICAgICAgICAgICAgICAgICAgICAgICAgICAgICAgICAgICAgICAgICAgICAgICAgICAgICAgICAKICAgICAgICAgICAgICAgICAgICAgICAgICAgICAgICAgICAgICAgICAgICAgICAgICAgICAgICAgICAgICAgICAgICAgICAgICAgICAgICAgICAgICAgICAgICAgICAgICAgIAogICAgICAgICAgICAgICAgICAgICAgICAgICAgICAgICAgICAgICAgICAgICAgICAgICAgICAgICAgICAgICAgICAgICAgICAgICAgICAgICAgICAgICAgICAgICAgICAgICAgCiAgICAgICAgICAgICAgICAgICAgICAgICAgICAgICAgICAgICAgICAgICAgICAgICAgICAgICAgICAgICAgICAgICAgICAgICAgICAgICAgICAgICAgICAgICAgICAgICAgICAKICAgICAgICAgICAgICAgICAgICAgICAgICAgICAgICAgICAgICAgICAgICAgICAgICAgICAgICAgICAgICAgICAgICAgICAgICAgICAgICAgICAgICAgICAgICAgICAgICAgIAogICAgICAgICAgICAgICAgICAgICAgICAgICAgICAgICAgICAgICAgICAgICAgICAgICAgICAgICAgICAgICAgICAgICAgICAgICAgICAgICAgICAgICAgICAgICAgICAgICAgCiAgICAgICAgICAgICAgICAgICAgICAgICAgICA8P3hwYWNrZXQgZW5kPSd3Jz8+/9sAQwAHBQUGBQQHBgUGCAcHCAoRCwoJCQoVDxAMERgVGhkYFRgXGx4nIRsdJR0XGCIuIiUoKSssKxogLzMvKjInKisq/9sAQwEHCAgKCQoUCwsUKhwYHCoqKioqKioqKioqKioqKioqKioqKioqKioqKioqKioqKioqKioqKioqKioqKioqKioq/8AAEQgAdgQ3AwEiAAIRAQMRAf/EAB8AAAEFAQEBAQEBAAAAAAAAAAABAgMEBQYHCAkKC//EALUQAAIBAwMCBAMFBQQEAAABfQECAwAEEQUSITFBBhNRYQcicRQygZGhCCNCscEVUtHwJDNicoIJChYXGBkaJSYnKCkqNDU2Nzg5OkNERUZHSElKU1RVVldYWVpjZGVmZ2hpanN0dXZ3eHl6g4SFhoeIiYqSk5SVlpeYmZqio6Slpqeoqaqys7S1tre4ubrCw8TFxsfIycrS09TV1tfY2drh4uPk5ebn6Onq8fLz9PX29/j5+v/EAB8BAAMBAQEBAQEBAQEAAAAAAAABAgMEBQYHCAkKC//EALURAAIBAgQEAwQHBQQEAAECdwABAgMRBAUhMQYSQVEHYXETIjKBCBRCkaGxwQkjM1LwFWJy0QoWJDThJfEXGBkaJicoKSo1Njc4OTpDREVGR0hJSlNUVVZXWFlaY2RlZmdoaWpzdHV2d3h5eoKDhIWGh4iJipKTlJWWl5iZmqKjpKWmp6ipqrKztLW2t7i5usLDxMXGx8jJytLT1NXW19jZ2uLj5OXm5+jp6vLz9PX29/j5+v/aAAwDAQACEQMRAD8A+kaKKKACiiigAooooAKKKKACiiigAooooAKKKKACiiigAooooAKKKKACiiigAooooAKKKKACiiigAooooAKKKKACiiigAooooAKKKKACiiigAooooAKKKKACiiigAooooAKKKKACiiigAooooAKKKKACiiigAooooAKKKKACiiigAooooAKKKKACiiigAooooAKKKKACiiigAooooAKKKKACiiigAooooAKKKKACiiigAooooAKKKKACiiigAooooAKKKKACiiigAooooAKKKKACiiigAooooAKKKKACiiigAooooAKKKKACiiigAooooAKKKKACiiigAooqpqGqWmlRRyX0yxLJII1J7k/096aTbshNpast0UUUhhRRRQAUUUUAFFFFABRRRQAUUUUAFFFFABRRRQAUUUUAFFFFABRRRQAUUUUAFFFFABRRRQAUUUUAFFFFABRRRQAUUUUAFFFFABRRRQAUUUUAFFFFABRRRQAUUUUAFFFFABRRRQAUUUUAFFFFABRRRQAUUUUAFFFFABRRRQAUUUUAFFFFABRRRQAUUUUAFFFFABRRRQAUUUUAFFFFABRSMyopZyFVRkknAArhNV+LOjWwkTR7a61d1B2yQKqwlgOPncjcM91DCplKMVeTsaU6VSq+WnFt+Rva5410Hw9dLa6nekXLDd5EMTyuo9WCA7RxwTjPasi6+K/hiGzeS3muLi5ztjtPs0kbyt143qBjHJOcD68V43Dqi3K/a5Xku769LTyhULSSP/ESvYL054UADgCrekaLeeLNVhgtbuysnt2acF905wAUP3cI33/4XP4VyQrVqs2qcND2auBweGpxlXq+9pojsG+KfiU3fmrZaUlv1+ykSM/083cB+Oyuosfix4buLEPfST2V4pCy2ZgeV1PqNgIKns3A9cHIHASeF4YpzFL4wtFKv5bP/ZreWr5xtL+ZtByQME5rM1Xw3qHhzW5IXu7HUJbmE3BC5t2WNMLk7tyqMn+JwM9+1EY4yN3JJhUeUVXGNOTh3dn+p7Ro3jnw/r199jsL1hdEZWGeF4WcYz8u8Dd74ziugr5nubuOEOLlpdPurYCdfMXZJEV5Ei+uD0K5Br1XQfi3p1xZ2q+ILO8024aJPOnaINDvIGfuMWUZ/vAAetVRxHNdVFysxxmXeytPDvni+q1t62PQ6KZDNFcQJNbyJLFIoZJEYMrA8ggjqKfXWeQFFFFABRRRQAUUUUAFFFFABRRRQAUUUUAFFFFABRRRQAUUUUAFFFFABRRRQAUUUUAFFFFABRRRQAUUUUAFFFFABRRRQAUUUUAFFFFABRRRQAUUUUAFFFFAB0rzfxBfw61fzXTgzWdv+7gQc7+cMwHPLNgA+g7HBHS+MNUa2sBp9qx+1XilQV/gT+Jvb0HTr7V5tq155csVpaNtitsEAEH5sZ9BnGcc/jzmvRwlJv3jjxFRLQ9K8HawdQ0v7JdfLeWeEkQnJK/wn344/D3roq8r03Wfsd9aa1Ch8vmG6RfvMMAscAYwuVIJPoK9SikSaJJImDI6hlYdwehrnxFPklfozWjPmjbsOooormNwooooAKKKKACiiigAooooAKKKKACiivIf+bmP8/8APnW9Gj7Xm1tZN/cYVq3suXS92l9569RRXmHjPx5qt14g/wCEX8EqWvN2ya4UAkN3Vc8ADux6e2M0qNGVaXLH/hh1a0aUeaX/AA56fRXko+FPie5jFxe+LZBedcb5HAJ/29wP6V1fgCy8S6ZDf2Piq4e5MLp9mmZ/MDKQc4Y8nkdDyK0qUacYuUZp2M6dapKVpQaudfRXIfFX/kmeq/8AbH/0clY/wQ/5Em7/AOwi/wD6LjpKheg619naw3XtXVG26vc9HoorlfiN4h/4R3wZdTRPtubn/R4MHBDMOSPoMn64rGnB1JqC3ZtUmqcXN7I6qiuS+G3iX/hJPCMLTvuvLTEFxk8kgcN+I/XNdFqmowaRpVzqF422G2jMj++Ow9z0pzpyhN03uKFSM4Ka2LdFeZ/Cvxrc6/qWq2WqSbp5ZDdwAnO1TgMg9h8uPqa9Mqq1GVGfJIVGtGtDnjsFFVdT1G20jTLi/v5PLt7dC7t7eg9SegHrXkceqeMvidqE/wDY07aTpETbdyuUH0LDlmx2HA4/GqOHdVOTdorqyK1dU2opXb6I9morySf4Z+L9Lj+1aL4pluLlPm8syPHu9gSxB/HArZ+H/wAQLnVr19A8Sp5Grw5Csy7PO29QV7MOvHBGfStJYZcjnTkpJb9yI4l86hUi4t7dj0KiivBNIsvEvi3xZq1lp/iG6tfs0sj/AD3Mm3G/AAANRQoKqpNyskVWruk4pRu2e90V41et8RvACi9ur/8AtbT0b94XkMygZ/i3AOv1HFemeFfE1p4r0KPUbMbCTslhJyYnHVT69evoadXDSpx500490FLEKpLkaal2Zs0UUVynSFFFFABRRRQAUUUUAFFFFABRRRQAUUUUAFFFFABRRRQAUUUUAFFFFABRRRQAUUUUAFFFFABRRRQAUUUUAFFFFABRRRQAUUUUAFFFFABRRRQAUUVFd3C2llPcuCVhjaQgdwBmgDhPi9r1rp/hmHSpLyKGXU7hInjMoVjCMsxxnO0lQhPT58d68ovJ5fLkisDGJUhMrSOfkiXHBPqSRhR3PsCRLPfPdR3Gsas3mXFypnuXIz2ztH+yBwB6CrejeEdS0u3S+1aMafYWwkv7kW4DGQheYgAdpwuU2uMctjJY486EFjK138MT6WrUllGE5U1zz19Bul6HeW1jDJ9qtYtOvphlYvnuL+QrngDLOwILBchPvHG3mu70zwjcWkL3Nna6f4cTymAKp510AR/FKTtQZySo3jJzuzmqnhbXo2jOs3Wh6i13cApEiRxBLOEHAhQbxjpljjJb2CgWtd8VW2q21xp89jdQWkMazahHP5eZo2bbHbqAx+aZ/k56jf3rerVrOfJRVo9z5z2M2uerds4iy1vW1+KeiLFo5/sRdEjt2037TAWkt5IfMkbyWbexLrndwSEPBJNdlZ+HdQ1DwbpjXi2GtxtZxP5MvEqEqD+7uBw2OxKjJAJYdajW7aTQZVm0rUo9ZnmF615HHFhLoYKkYkBKKFVMHqi7T1NWtG8ULpkccX9m3b296XlghgCk2soP7+A7mHCudy+qtwMLU1Kle16atZ/eU6L2kjkdd0kSQZit5brS4JALnTJIgl3p7no6Hjk4HzbiGPOWBIObLFJYXSW086XUUyl7S9jHyXKA4PTjcp6gccgjg13XinxDE1g+qQaLqMV7ZxsUeRItsqdWhf8Aecq3TocHBAz15keHYNZ0NtKt0/d3w+3WpujukiuQCCsgBIXlWjYEBTk4OflGjp/W6dpq0v6/A6sHi62W1eb7L3X6+qOy+D2t29xpmoaMt7DK9ncl4YVcEpE4BIAz0D7/AKZAr0ivmuzlfyrW+0/dZXcHzwOo2tA44I/mCOhGQa+hdB1P+2vDunaoE8v7bax3Gz+7vUNj8M4qMLW548r3R05rhPYVVUTvGeq/r5l+iiius8gKKKKACiiigAooooAKKKKACiiigAooooAKKKKACiiigAooooAKKKKACiiigAooooAKKKKACiiigAooooAKKKKACiiigAooooAKKKKAA1xuoeLdT07WZbGe2tkC5KSMGwy4JB698Y+tdlXL+NtMjuLGK+MRka3YB8f88z1zj06/nXJi/aKnzU3Zo7sC6TrclVXT0+ZQHjTUCxATTiB1PmN7f4ioZ/H19AoJt7N85+4zHHT/ABrj542t5niJI5/MdqfYW/2q8Csu9IxvdR3GQMe/J6CvJwtbEYitGkpWv/TPexWGwuGoSrSinb8exoajq93NcyXtyYxc3ShRGF/1abTgA4I/iyV45xWD9mU9WYmu68M6Nb+IJby71KBnhjPkwfMQDySzZGMnP86b4g8MWOly2z26SNExJcM55284z7j+VezmGKxVN3w8uWK0frt2PDy3D4Oa5cTHmk9V2ta/c5a2snFmyxXkSLMPmRyARyRx6f4Gun0TxJdaVpMNnvtJwnEbPKQcEng8dq2brwRpi6fO1vA/2nyT5eJGwHxxgE+vrXAR2ySaRMyjF1DJyGcZYYJI28Y4Ge/Q1jFZjXfJKavv+nb+rm0pZZSXPGm7Xt6de/8AVjtf+E2uuP3Fkc4/5bt3/CoZviBPCFP2O3k3f3JicfXj3rhgcjIrZ0uwe5mtrJA2bxx5pA5RAcn9Oc/hXjRxmJk+VPU9uWAwkI87jp8/8z0Tw/qtxrGn/a7i2FurMRGAxO4Dv+f8q1aZDEkEKRQqFjRQqqOwFPr6SmpRilJ3Z8lUlGU24qy7BRRRVmYUUUUAFFFFABRRRQAV5D/zcx/n/nzr16vIf+bmP8/8+dd+D/5ef4WcOM/5d/4kesXkrQWM8qfejjZhn1AzXlfwQtI5hrGqTN5l00ix7mOWAOWJ/E4/KvWWUOpVhlWGCD3FeJaZeXHwl8dXVpqMMj6PfH5JVGcoCdrj1K5II68/TLwqc6VSnH4nb52FiWoVadSXwq/yvse3UVjweL/DtxZ/aotbsPJxks1wqlfqCcg+xpugeKtO8Sz3q6S7SxWbqjTYwrk5+77cda43Tmk21sdntINpJ7mV8Vf+SZ6r/wBsf/RyVj/BD/kSbv8A7CL/APouOtj4q/8AJM9V/wC2P/o5Kx/gh/yJN3/2EX/9Fx13R/3CX+L/ACOCX+/R/wAP+Z6PXjnjd38bfFOw8N27E2lmdsxXPB+9IfwUAD3+teo+ItYi0Dw7e6nNgi3iLKp/iboo/EkCvPvg1o0sseoeJr/L3F5I0cbt1YZy7fi3H/ATUYX91CVd9NF6v/I0xP7ycaC66v0X+Zk2ZPwz+LTWrEppGo4Ckn5VRj8p/wCANx9M+taXxb1q41HULHwhpPzzXDo86juSfkU/+hH8K6H4qeGf7f8ACT3Fum680/M0WByy4+dfyGfqorlPhBoU2p6nc+KdWZ53j/c27ynJZ8YZufRcKPqfSuuE6coLFS+KKt6vozlnCcZvCx+GWvouqM/xFon/AArHxdoOraeGe12Ksx5+dlG2T6blOR759K9uhljuIEmhcPHIoZGHRgRkGub+IXh//hI/Bt3bxpuuYR59v6717fiMj8ayPhD4g/tbwj9gmfdcaa3lcnkxnlD/ADX/AIDXLVbr4dVXvHR+nQ6aSVCu6a2lqvXqV/jZcyw+DLaKNtqT3irIP7wCscfmAfwrq/BljBp3gvSYLXbs+yxyFl6OzKGLfiSTVT4geG38UeEZ7O2AN1Ewntwe7rnj8QSPxrkPh58Q7Sx09PD/AInk+w3Nl+6jlmG1So/hb+6R054wKai6uEShunqv1E5Knim57NaP9D1WvH/iPCul/FTQNSsyI552iMgXuVkxk/UHH4V6HqPjXw5plobi41izZdu5VhmWRnHsqkk15poSXnxL+Ji69NA8Ol6e6lA3YIcome5J+Y+mfpRg4Sg5VZaRSfz8gxc4zUaUdZNr5eZ7RXkHwp/5KH4j+kn/AKNr1+vFPh1q2n6R4+8QSapewWiOZFVppAgY+b0GanDJujVS7L8ysS0q1Jvu/wAj2e4t4ru1lt7hBJFKhR0YcMCMEV5P8GN1prniCwSTfBGVwc8EqzLn8R/Stfxh8VtKsNMlt/D1yL7UJVKo8QOyLP8AFnuR2AqX4S+FrjQtCnv9RjaK71Aq3lv95Ixnbn0JyTj6VUYSpYaftNOa1kTKcauJhya8t7noFFFFecegFFFFABRRRQAUUUUAFFFFABRRRQAUUUUAFFFFABRRRQAUUUUAFFFFABRRRQAUUUUAFFFFABRRRQAUUUUAFFFFABRRRQAUUUUAFFFFABRRRQAVkeKdXt9D8L31/dxGZEj2rCP+WrMdqp+LMBntmteuX+Iul3Oq+CrlLGNpp7d0uFiXrIEYFlHqducDucVMm1FtGlNRc0pOyvqeDw2N3M2naVqHlz2s00Uc0sTsjmNTufj3VTyD+Fdh4Lt47qOztrPVotTsrvUEaSOKPy1gWNGnIO0kMxkCKeeh564PNxT215f6ckVzH/pE3lIVfkmSN0GO/Vh711fw8vIx/Zvl3EVxCdRnt0aFmYKWgaT5sooUnYeANuSMYzg8WFbWFqNb2Z6mff71CKd1ZfqbWulPCuuTTyK/9naluljCLnZcgZaMDqTIBuAA+8r+orkfGOrah4a8K6hqsKQS3Wlyxz3Ky7mjkvJGSMpwRlIY32DB5YsSMrXdeIb+W+1eO3slSRrOdY7YOu5XvmXcpIzysMeZW9yuORivPvGtnd3/AMF9S0yzspptShaOG4toVaWQzLOhkPAy2eX3Y5BDd62wsm6aUt/0OanJzTX8qdvX/gFt/iKU03w9b2lkNS1/V7aC4eyt22rErqrO7E52qMnGa39QtQt5iORIlvZU2yNjbbXoGIZD7OD5TdyGX6151ZeEvEfhPTtL8Q+DLUTX15ptvb6hp14p3JJ5agOM4K7WxuXIxj8uq0fwv/wjXhnUH1eeXV9Y1dgLpi5/fzN8qRoP4QCcA8YHPAAA6+mp0vmnFqX/AAx0Wit/wlmr26tE8VpprCa+hfBIulPywNjIyjAu2D1WPqDWf4mtbrTvEl1PpESyz2t1Fe7FtvMdIZwVYDYpfaZYXY4I+83XgDZ0C9vNK1gw6uV82eRLbUGU8G52gQ3A4HyzRrtPQCRNoySTWD8SNMttS1HV3urY3EfkWEAYSBPIeN7iRmLE8fJKBxk89PTz6c5vFp9Laeh5lebqq8jmNetry28Va1ZWPkxxfajKJXySplRZSAn+87dSPpXtngDUrbUfA+m/ZIfs4tYVtHgznymjAQjPccAg9wRXjGo/6N4h1KG4nDyWi28MsjSb8lbePcSx5PJPJ9K9W+Fmlz6f4TlublGjbUrprtI3GCqFERePcRhv+BU6emKqRS0PYxaUstw85P3rfhb/AIY7Siiiu08IKKKKACiiigAooooAKKKKACiiigAooooAKKKKACiiigAooooAKKKKACiiigAooooAKKKKACiiigAooooAKKKKACiiigAooooAKKKKACmyRrLG0cihkYEMD3Bp1FAHkviHTJdO1Q2ghO1FLRuBnenYn6YOahskE1vHY2YEt5eSbCcghARjp1HBPX3PbnpPFeom81cxWXlbLBSJ5HIBYnB2rn0wPoTWV4evE0TxHFJIsbQXI2+Zj7qseCD27Zryop5dXd18a0fbX+vwPecv7Swys9YPVd9P6/E2pXvvA2jTXk5jksbeI5XdyzE/Ko4HJZvTgHvxjkr2TxdrNqb668T2enTkNImn7zEqIpCnLYxwTg5J5yCcggdd8Qmi17wjfabpztLdKqzqiqTuCHcR+QOPU1zB0OTWraHVtEiFzY3Gjx2CwxkbopQ67lI7AYJJ/wAamat7kHdep6OAlBUlWqJKTdm2ltZW32vrr5Fvwx4116DVJPDmuSW97qHlFoJInV2DjrG5XgnaCeOfXJ4pdW0+90G+h1G8BZLp/wB8ASMEEHqDz69s88VheH9Aktfi+ZZrmIraySXN06t8sRYsFj3dCxyv6+ld9431qzOmjT41juZZ/mznIjGfvZHf0/GrpVvZL285fD07+Xz/AA+RjmeHpzrRo0Iq04puy2fddl1t1XqcPcRQ299lMtbM2VwcEdMr9RmvQfBmmPFaNqV2pE1yMRqf4I+359fyrhrYvdW50+6IMlt88TF8jGDgdeR0HHr0yc16ppN/DqWmQ3NuNisMFMYKMOCp+h4rvqYKHt/rUNpa/N9fn+dzwljqn1f6pP4o6fJdP66WLlFFFanGFFFFABRRRQAUUUUAFFFFABXOf8IRpv8AwnP/AAlXn3X27/nnvXyv9V5fTbnp79a6OirjOUL8r30IlCM7cy21CqOr6Lp2u2Js9WtI7mE8hXHKn1BHIPuKvUVKbi7oppNWZ57J8FfDLzmRZ9RjXOfLWZdv05Qn9a63QPDOleGLN7bR7byVkIaRixZnPqSa1aK2niKtRcs5Noyhh6VN80IpMzfEGh23iPQ7jSr55Y4LjbuaEgMNrBhgkEdVHaq/hbwtZeEdLksNNluJYpJjMTcMrNuKqOwHGFFbVFZ+0mocl9C/Zxc+e2pl6/4esfEunix1QSNbhxIVjkKZI6Zx9ataZptro+mQafYR+Xb26bEXOeP8e9VL2HWr1SlldQaZH/faLz5T+GQqn/vquV1P4balqmWn8Z6ozsOQw+TP+6rAAe1awSlHlnOy+bM5txfNCF38kd+eetVrDT7XS7JLTT4FggQkrGgwBkkn9Sa8ju/hb4w0wmXRNfM5HOFuJIHJ9ucfrUMPiv4l+HHEOpabPeouOZ7UyDH/AF0Tr+JNdCwamv3VRPy2Od4twf7ym1+J7XWDo3gzR9A1a51HS4pYZrkMJF80lCCc/d6Dnp6VyemfE3xBeyrE3gi+kJOC8TMAPzTA/E11+nXHiHUow9/ZW+jRnqgm+0TEfXAVf/HvpWMqVWimm7J+a/Q2jVpVmmle3k/1Nuud8Q+BNA8TSedqVntucY+0Qtsc/XsfxBrogMADr9aKwhOUHeLszeUIzVpK6OAtPgz4XtpxJK19dqP+Wc0wCn/vlVP613FlZWunWiWthbx28EYwsca7QKnoqqlapV+OVyKdGnS+BWCuLuPhP4WurqW4mtrgySuXYi4YZJOTXaUUoVZ0/gdhzpwqfGrnM6P8PPDOh3K3NlpqtcKcrLO5kKn1AJwD7gZrpqKKU5zm7ydxwhGCtFWCiiioLCiiigAooooAKKKKACiiigAooooAKKKKACiiigAooooAKKKKACiiigAooooAKKKKACiiigAooooAKKKKACiiigAooooAKKKKACiiigAooooAKKKKAPmCFWudMi1SCGNdSk23qvtAPnbhKOf96vSYv7GvrbSf7N0+T+y57WfVRaWKlZbqePywsW4Y+b52JGQTsx0DVW8Y+Ar3RJbrU9Dh+16X888turAS238TbQeGTqcZyOgBHTmfCerwW7Np/iOEwaPeT+dayicq9jMwxu3qQYw2T8yn5STz8xI4sO5UqkqdTaWzPezCNLF4eFehq4K0lbp/wDtF1L+y7PQdRuNGXRdUkt7mI6GIJrl0BkUvKvkRu2CQpLFcHeuSDjOTqGvtDrEusPHJZRTRLHcrJpGphXcELG+42wAbB2993yDjbz0txpv/AAjd6da02T7RLIohuI9QuyzzqXJUJLISVbLHC52nIHHBGpFq2jeJbW40udsSTRtHPYXSmKYKcqcoeSOuGGQeoJ60sQ5UKvPyfM8SjV6xepxX/CUN/cf/AMFOpf8AyLUVnrxu9YttURJLyGzEiRRR6RqRRZs7WckWp+ZQGXHGNzZzxi59ov7VD4e83zNbWUWsMrrnzEIJW5IGONgLNjjcrKO1dYL7RfCWm2uli4+aGMJDbITNcTY77BlmJJyWx1OSarEYhcqjFX5vyO2tUlypc17+hx2u+IJrmw1LVYNJk1K+t7NLf+yUsruN5EeUMJpFkjRyqeWxUoDgluQTSaS+kz2968smo2NpNZR6pd293LKt1ZSpmJxI7nfIpEIA35zsbkggDoW0m+17WYNav5LnR2to2jtILWULMAxBJmYZDdBiPlR1O4428J411YXE82l6Fuv4llV9Uu5ZiZLt0Pywqx4wp5IGFz8vHzVvTtQpKc1byOKjSli6vsqev6Luc5fQpfWt3q13aQi+maS7zJGGMTMSwX6AYXGegr6cifzIUfGNyg49OK8V8KeCL7xalteX8Bs9DlCyN5pHmXaddgUZwp6EnBxnA5yPbawwsaiTlU6s9bNamHlKFOhtFWuFFFFdh4wUUUUAFFFFABRRRQAUUUUAFFFFABRRRQAUUUUAFFFFABRRRQAUUUUAFFFFABRRRQAUUUUAFFFFABRRRQAUUUUAFFFFABRRRQAUUUUAFZfiHVv7I0ppYl8y5kPlwRj+Jz/QdT9K1K8513XGu9ZnmWCZktQYrYLG3zf3m6Y+Y8ewHet6FPnl5Iyqz5YnPaxcm3txYI4Zy2+dwzZdvU5Pc5OPx71FZSLdWbwyyBGjBdC3c+lTJpsF1GLm8kmSeRWeRBGR8+44A+XjI/Lj1qaPSdOVd/2m5Q/LlSmcfKCf4ecciujMMJHFUPZr4ls/z+QZdjJYSvzv4Xuvy/r1Ov8Ah9NbyadPEEAuIX+Zu7K3T+R/SjW9H0NdfhEthHG10QZpIpnh3dcltjAHgd65NIoLSGRrPUp1Zl2OytsGcA7TxyCc/THNY9xe3Tzk+fNKqMfLZ2JIHr7V5FPLsSqKpe7deb/+RPWlmNBYiVaLmk+y/wApdz12TR9G03QJrdLaG2skUu2xBx/te5+uc15g0sT3M1z/AA7vkjZucH8Dx+PFQ2d7qVwzWy3ExjmG10LHDfhT5pEllhtpB5cCsFd0G4gdyD/SuDFYadbFQw6Sv5a2/BbLU9DB4iFHCzxU22n30b/F7vQzzdyLcmVHOeQfcHr+degeFdThsLyGFZCbXUQNhY9JgOe55bv7j3rkn07SVYr9rl6cPwQTj0AzjJ/T8ait50s/tNs8j+VvDxvGRkgHIGffg/UfhX2KoU1RVKC0SsfGyr1JVnVm9W7ntlFZHhnW113RY7k4E6/JMvow7/Q9a168eUXFuLPQi1JXQUUUVIwooooAKKKKACiiigAooooAKKKKACiiigAooooAKKKKACiiigAooooAKKKKACiiigAooooAKKKKACiiigAooooAKKKKACiiigAooooAKKKKACiiigAooooAKKKKACiiigAooooAKKKKACiiigAooooAKKKKACiiigAooooAKKKKACiiigAooooAKKKKACiiigBskaTRPHKoZHUqynuD1FfPGqaRN4bvX0XV1xsykEko+W6i6KwJ4J243Dsc+2fomorm1t72Aw3kEVxE3WOVAyn8DWFegq0bM9DA46eDqOUVdPdHzfZazqCwtYhW1HSLKXEFu85VlYKQVU/xxjcBsY44xkDirFtr89zuj1e/tXtwEP2TV0Em07lB2tMVDNt3NwcZ24OMgd34u+HF1DfSah4StIpIJiDLpsZWIo/QtHkhcHupI5yQecVx+o+DvFNxp0q/8I7eeSMefloixTI3BVDksSM8AH+QOMauJoz5WuZHdUw+XYun7VT5J9vM6W+g8MQ/8TK3sIbmWCzwLtbxPKwSMxbVlzu4yMKR2zWdd69pemHUbbRdU0y1jM0ctoNGgEzyckusnljgng5Y8nknBxXJFtKWUh0tlmU7DGyASBum3aRuz7YzWxpnhHxPFY708O3v2WR2eA/u1YKxzhkLBl5J4IHGOlNY2ck3CnqS8lw9OSVbEKz/AK7/AIker+LNVmtVsLYy6boss5Q75c3JVySFLgkKuSFwCTgj5u1Q6dYS6rdR6NoEYe4YBAIhlbZTxvfH3VHJ564wMk12nhf4bX1/qMV34rtEt7GBt4sJGSRrhh08zaSoQcHGSScZwAQfU7WztbGEQ2VtDbRDokMYRR+AqPY1MQ1Ou/kayx2HwClRwUb3+0M06wh0vS7TT7QbYLSFIIh6KqhR+gqzRRXefPBRRRQAUUUUAFFFFABRRRQAUUUUAFFFFABRRRQAUUUUAFFFFABRRRQAUUUUAFFFFABRRRQAUUUUAFFFFABRRRQAUUUUAFFFFABRRRQAUUUUAFFFFABRRRQBwfjDRjDffaYsJa3R/ecD5ZACc+2fX2riiMMR1we1ezanYR6nps9pN92VcA4+6ex/A15Vc2P2e78i6CxvbtsmGDg478DuP5185mGH5KnNHZn1mVYvnp8kt1+X9afcR22nSXBgiiBNzcOBEoPQepr1nStPj0vTIbSLkRryf7x7n8TXNeC9KMhOrzqAGUxWy45VQeW+vb867Cu/L8OoQ9o93+X/AATzM1xTqT9ktlv6/wDA/wAwooor1DxgooooAKKKKACiiigAooooAKKKKACiiigAooooAKKKKACiiigAooooAKKKKACiiigAooooAKKKKACiiigAooooAKKKKACiiigAooooAKKKKACiiigAooooAKKKKACiiigAooooAKKKKACiiigAooooAKKKKACiiigAooooAKKKKACiiigAooooAKKKKACiiigAooooAKKKKACiiigAooooAb5aGTzNi7x/Fjn86dRRQAUUUUAFFFFABRRRQAUUUUAFFFFABRRRQAUUUUAFFFFABRRRQAUUUUAFFFFABRRRQAUUUUAFFFFABRRRQAUUUUAFFFFABRRRQAUUUUAFFFFABRRRQAUUUUAFFFFABRRRQAVy3iXw1LqmqW1xaghZMR3RUgYQH73J69q6misqtKNaPLI2oV50J88NyOCGO2t44YV2xxqFUDsBUlFFarTRGTbbuwooooEFFFFABRRRQAUUUUAFFFFABRRRQAUUUUAFFFFABRRRQAUUUUAFFFFABRRRQAUUUUAFFFFABRRRQAUUUUAFFFFABRRRQAUUUUAFFFFABRRRQAUUUUAFFFFABRRRQAUUUUAFFFFABRRRQAUUUUAFFFFABRRRQAUUUUAFFFFABRRRQAUUUUAFFFFABRRRQAUUUUAFFFFABRRRQAUUUUAFFFFABRRRQAUUUUAFFFFABRRRQAUUUUAFFFFABRRRQAUUUUAFFFFABRRRQAUUUUAFFFFABRRRQAUUUUAFFFFABRRRQAUUUUAFFFFABRRRQAUUUUAFFFFABRRRQAUUUUAFFFFABRRRQAUUUUAFFFFABRRRQAUUUUAFFFFABRRRQB//2Q==)"
      ],
      "metadata": {
        "id": "TW5QepO9EXEQ"
      }
    },
    {
      "cell_type": "markdown",
      "source": [
        "**<div align=\"center\"><font size=\"4\">REGIONAL TRAINING</font>**\n",
        "\n",
        "\n"
      ],
      "metadata": {
        "id": "9uUvK3uJDaZF"
      }
    },
    {
      "cell_type": "markdown",
      "source": [
        "<div align=\"center\"><font size=\"4\">Analysing permafrost in the Hindu Kush Himalaya using open access tools</font>"
      ],
      "metadata": {
        "id": "oeT76Uq-RjX5"
      }
    },
    {
      "cell_type": "markdown",
      "source": [
        "**<h1 align='center'>Basics of R**\n",
        "\n"
      ],
      "metadata": {
        "id": "_YMWGU-LNoX_"
      }
    },
    {
      "cell_type": "markdown",
      "source": [
        "*This notebook is prepared for the participants of the regional training on **Analysing permafrost in the Hindu Kush Himalaya using open access tools** organized by ICIMOD through its Cryosphere Initiative under the Regional Programme on River Basins and Cryosphere in collaboration with Kathmandu University and Tribhuvan University.*\n",
        "\n",
        "*The Cryosphere Initiative is supported by the Government of Norway and the Swiss Agency for Development and Cooperation.*\n",
        "\n",
        "Coded by: \\\n",
        "Abhijit Vaidya \\\n",
        "Email: abhijit.vaidya@icimod.org, abjt.vaidya@gmail.com \\\n",
        "\n",
        "---"
      ],
      "metadata": {
        "id": "GRdp3UjDNrr_"
      }
    },
    {
      "cell_type": "markdown",
      "source": [
        "This tutorial covers general information about the R programming language. It covers Data Types, Data Structures, Looping, Conditional Statement and Basic Data Visualization. "
      ],
      "metadata": {
        "id": "hb9DoS9dVW32"
      }
    },
    {
      "cell_type": "markdown",
      "source": [
        "\n",
        "#**What is R?**\n",
        "\n",
        "The R programming language is an offshoot of a programming language called S. R was initially written by Ross Ihaka and Robert Gentleman at the Department of Statistics of the University of Auckland in Auckland, New Zealand. **It is free to download and use.** R has an effective data handling and storage facility. \n",
        "\n",
        "More about R can be found at http://www.r-project.org/."
      ],
      "metadata": {
        "id": "7z6S7E4ah8Rd"
      }
    },
    {
      "cell_type": "markdown",
      "source": [
        "# **Basic operation in R**\n",
        "\n",
        "R has the capacity to perform different operations including *arithmetic*, *logical* and *relational* among others. To execute any expression, you need to enter an expression into the R console and press the enter key or *run* button.\n",
        "\n",
        "Operators in R can be classified into the following categories.\n",
        "\n",
        "\n",
        "1.   Arithmetic operator\n",
        "> used to perform mathematical operations\n",
        "\n",
        "2.   Relational/logical operators\n",
        "> used to compare values\n",
        "\n",
        "\n",
        "\n"
      ],
      "metadata": {
        "id": "eFlJNknFW7oi"
      }
    },
    {
      "cell_type": "markdown",
      "source": [
        "Below are some examples - you can also play around with the values to see how the results change. Also see how we use comments within the code. This helps to remind you in future what you wrote and makes the code usable for others too. Also try to keep some order within the code. Everyone has their preferred way of writing, but important rules are *consistency* in how you name things and how you structure your code (e.g. how much space you use or where you place your comments) and *documentation*, that you spell out what you do and why you did it. "
      ],
      "metadata": {
        "id": "7CXIxAXF-_Up"
      }
    },
    {
      "cell_type": "code",
      "execution_count": null,
      "metadata": {
        "id": "tJBQieXrrJ_W"
      },
      "outputs": [],
      "source": [
        "#Addition\n",
        "4+5"
      ]
    },
    {
      "cell_type": "code",
      "source": [
        "#Subtraction\n",
        "4-5"
      ],
      "metadata": {
        "id": "9FLA8kqDZS0a"
      },
      "execution_count": null,
      "outputs": []
    },
    {
      "cell_type": "code",
      "source": [
        "# Division\n",
        "3/5"
      ],
      "metadata": {
        "id": "nA7oPK5HZh1J"
      },
      "execution_count": null,
      "outputs": []
    },
    {
      "cell_type": "code",
      "source": [
        "# Exponentiation\n",
        "2^3"
      ],
      "metadata": {
        "id": "UslmCq5xaLIq"
      },
      "execution_count": null,
      "outputs": []
    },
    {
      "cell_type": "code",
      "source": [
        "# Remainder (or also called Modulo - what remains after a division)\n",
        "3%%2"
      ],
      "metadata": {
        "id": "P-vojPtHaU0e"
      },
      "execution_count": null,
      "outputs": []
    },
    {
      "cell_type": "code",
      "source": [
        "# Greater than and less than - this command outputs a TRUE/FALSE statement rather than a number!\n",
        "2>3\n",
        "2<3"
      ],
      "metadata": {
        "id": "Hg1kKEZ5abzG"
      },
      "execution_count": null,
      "outputs": []
    },
    {
      "cell_type": "code",
      "source": [
        "# Greater/lesser than or equal to\n",
        "2>=3\n",
        "2<=3"
      ],
      "metadata": {
        "id": "ND8kZeQoaqSR"
      },
      "execution_count": null,
      "outputs": []
    },
    {
      "cell_type": "markdown",
      "source": [
        "# **What is a variable in R?**\n",
        "\n",
        "Variables are used to store data, whose value can be changed according to our need. A valid variable name is a combination of letters, numbers, the dot and underline characters. The variable name can start with a letter or the dot not followed by a number.\n",
        "Naming Convention of Variables in R\n",
        "1.\tvar_name2 (valid: has letters, numbers, dot and underscore)\n",
        "2.\tvar_name% (Invalid: has the character ‘%’. Only dot(.) and underscore allowed)\n",
        "3.\t2var_name (Invalid: starts with a number)\n",
        "4.\t.var_name, var.name (valid: Can start with a dot(.) but the dot(.) should not be followed by a number)\n",
        "5.\t.2var_name (invalid: The starting dot is followed by a number making it invalid)\n",
        "6.\t_var_name (invalid Starts _ with which is not valid)\n",
        "\n",
        "Let’s define some variables in R.\n",
        "\n"
      ],
      "metadata": {
        "id": "LYN04PPBa4k3"
      }
    },
    {
      "cell_type": "code",
      "source": [
        "x <- 5                    # assign value \"5\" to variable x\n",
        "my_name <- \"amrit\"        # assign a string\n",
        "a = 4                     # you can also assign with '='. However to not confuse that operator (which is often used within functions), it is considered best practise to use '<-'\n",
        "4 -> t                    # you can also turn the order around"
      ],
      "metadata": {
        "id": "Aey1K7cIavgA"
      },
      "execution_count": null,
      "outputs": []
    },
    {
      "cell_type": "markdown",
      "source": [
        "#**Data types in R** \n",
        "You will need a clear understanding of basic data types in R to make best use of R software. This chapter will help you to familiarize with different data types in R."
      ],
      "metadata": {
        "id": "VbQtC-jyc3Mh"
      }
    },
    {
      "cell_type": "markdown",
      "source": [
        "##**Numeric** \n",
        "\n",
        "Decimal values are referred to as numeric data types in R. They are the default computational data type. There are then a few commands you can use to check your variables - this will be crucial in future as there are many complex code structures where you need to check a lot of variables at the same time to find errors for example."
      ],
      "metadata": {
        "id": "wfyjK_-gevvU"
      }
    },
    {
      "cell_type": "code",
      "source": [
        "r <- 2.1\n",
        "t <- 5"
      ],
      "metadata": {
        "id": "SdoZCxMWfHos"
      },
      "execution_count": null,
      "outputs": []
    },
    {
      "cell_type": "code",
      "source": [
        "#Check the data type of a variable\n",
        "class(r)\n",
        "class(t)\n",
        "typeof(r)\n",
        "is.numeric(t)"
      ],
      "metadata": {
        "id": "0L_eOdOSfvQj"
      },
      "execution_count": null,
      "outputs": []
    },
    {
      "cell_type": "markdown",
      "source": [
        "##**Integer**\n",
        "\n",
        "Natural numbers are represented as *integer* in R. We can define integer data type in R by appending an L suffix. \n",
        "\n"
      ],
      "metadata": {
        "id": "RFMGJjcefmAl"
      }
    },
    {
      "cell_type": "code",
      "source": [
        "int <- 2L"
      ],
      "metadata": {
        "id": "Uy6qd45LcFut"
      },
      "execution_count": null,
      "outputs": []
    },
    {
      "cell_type": "code",
      "source": [
        "class(int)\n",
        "typeof(int)\n",
        "is.integer(int)"
      ],
      "metadata": {
        "id": "TpXYyyXIjFFN"
      },
      "execution_count": null,
      "outputs": []
    },
    {
      "cell_type": "markdown",
      "source": [
        "\n",
        "\n",
        "##**Character**\n",
        "\n",
        "This data type is used to denote strings in R. Using the ***paste*** command we can merge multiple strings easily.\n"
      ],
      "metadata": {
        "id": "zfjvHHMVjdVK"
      }
    },
    {
      "cell_type": "code",
      "source": [
        "st <- \"Kathmandu\"\n",
        "as <- \"University\"\n",
        "st\n",
        "as"
      ],
      "metadata": {
        "id": "rO0a9CLaj0dA"
      },
      "execution_count": null,
      "outputs": []
    },
    {
      "cell_type": "code",
      "source": [
        "paste(st, as)"
      ],
      "metadata": {
        "id": "NkWFmI65kBNC"
      },
      "execution_count": null,
      "outputs": []
    },
    {
      "cell_type": "markdown",
      "source": [
        "\n",
        "\n",
        "##**Factor**\n",
        "\n",
        "Factor data type is used to categorize the data and store it as levels. Such variables are often referred to as categorical variables.\n"
      ],
      "metadata": {
        "id": "rnQZEtWxkjz7"
      }
    },
    {
      "cell_type": "code",
      "source": [
        "fc <- factor(c(1,2,3,1,1,1),labels=c(\"snow\",\"land\",\"vegetation\"))\n",
        "print(fc)"
      ],
      "metadata": {
        "id": "qIgMAFLOkzdm"
      },
      "execution_count": null,
      "outputs": []
    },
    {
      "cell_type": "markdown",
      "source": [
        "\n",
        "##**Logical**\n",
        "\n",
        "\n",
        "The logical class can only take on two values, TRUE or FALSE. This data type is used for comparison between two variables.\n"
      ],
      "metadata": {
        "id": "C5p8i3XBk-Zw"
      }
    },
    {
      "cell_type": "code",
      "source": [
        "lo <- TRUE"
      ],
      "metadata": {
        "id": "OlrePugOk7iU"
      },
      "execution_count": null,
      "outputs": []
    },
    {
      "cell_type": "code",
      "source": [
        "class(lo)\n",
        "is.logical(lo)"
      ],
      "metadata": {
        "id": "7NbnbM8ylQch"
      },
      "execution_count": null,
      "outputs": []
    },
    {
      "cell_type": "markdown",
      "source": [
        "# **Conversion between data types**\n",
        "In many instances, we need to convert data from one type to another. This is achieved with the ***as.*** command."
      ],
      "metadata": {
        "id": "qtVOa4WBlXei"
      }
    },
    {
      "cell_type": "code",
      "source": [
        "# Integer to numeric\n",
        "int_nu <- as.numeric(int)"
      ],
      "metadata": {
        "id": "LgiuSf_gmNKT"
      },
      "execution_count": null,
      "outputs": []
    },
    {
      "cell_type": "code",
      "source": [
        "class(int_nu)"
      ],
      "metadata": {
        "id": "9iiE_FbemOdm"
      },
      "execution_count": null,
      "outputs": []
    },
    {
      "cell_type": "code",
      "source": [
        "# Numeric to interger\n",
        "nu_int <- as.integer(t)"
      ],
      "metadata": {
        "id": "HIAHL-RZmOSJ"
      },
      "execution_count": null,
      "outputs": []
    },
    {
      "cell_type": "code",
      "source": [
        "class(nu_int)"
      ],
      "metadata": {
        "id": "OWx2azwjmOIK"
      },
      "execution_count": null,
      "outputs": []
    },
    {
      "cell_type": "code",
      "source": [
        "#Logical to numeric\n",
        "lo\n",
        "lo_nu <- as.numeric(lo)\n",
        "lo_nu"
      ],
      "metadata": {
        "id": "mTuXJZy_mN79"
      },
      "execution_count": null,
      "outputs": []
    },
    {
      "cell_type": "markdown",
      "source": [
        "# **Data structure in R**\n",
        "Data structure is a way of arranging data on a computer so that it can be accessed and updated efficiently."
      ],
      "metadata": {
        "id": "iPeB50gunMJD"
      }
    },
    {
      "cell_type": "markdown",
      "source": [
        "\n",
        "\n",
        "##**Vector**\n",
        "\n",
        "Vector is a basic data structure in R programming. It can only contain elements of the same data type. A specific vector can be numeric, integer, character, complex or logical. Vector is one dimensional object. Vector can be created using “c()” in R."
      ],
      "metadata": {
        "id": "bXKF5aq2Ag80"
      }
    },
    {
      "cell_type": "code",
      "source": [
        "# numeric vector\n",
        "a <- c(1,2,3,4)"
      ],
      "metadata": {
        "id": "SSN_SiDMAwjK"
      },
      "execution_count": null,
      "outputs": []
    },
    {
      "cell_type": "code",
      "source": [
        "is.vector(a)\n",
        "class(a)"
      ],
      "metadata": {
        "id": "0iOq1esDA5nF"
      },
      "execution_count": null,
      "outputs": []
    },
    {
      "cell_type": "code",
      "source": [
        "#character vector\n",
        "b <- c(\"amrit\",\"abhijit\",\"tika\")"
      ],
      "metadata": {
        "id": "Sf2O6Nm6A-Aw"
      },
      "execution_count": null,
      "outputs": []
    },
    {
      "cell_type": "code",
      "source": [
        "# logical vector\n",
        "d <- c(TRUE,TRUE,TRUE,FALSE)"
      ],
      "metadata": {
        "id": "ltU8uUMZBAik"
      },
      "execution_count": null,
      "outputs": []
    },
    {
      "cell_type": "markdown",
      "source": [
        "\n",
        "\n",
        "*   **Matrix**\n",
        "\n",
        "The matrix in R programming is a collection of data elements of the same type arranged in a two-dimensional rectangular layout. In other words, it is homogenous in nature, which means that it only accepts elements of the same data type. \n",
        "\n"
      ],
      "metadata": {
        "id": "VD8N--ewBL0i"
      }
    },
    {
      "cell_type": "code",
      "source": [
        "# define a matrix 'a' that has 3 rows and 4 columns\n",
        "# the elements of this matrix are 1,2,....12\n",
        "a <- matrix(1:12,nrow=3,ncol=4,byrow=F)\n",
        "# byrow=T is default.\n",
        "# the elements(1,12) are arranged columnwise"
      ],
      "metadata": {
        "id": "kAzUf37HBeHS"
      },
      "execution_count": null,
      "outputs": []
    },
    {
      "cell_type": "code",
      "source": [
        "a\n",
        "is.matrix(a)\n"
      ],
      "metadata": {
        "id": "1QHR0hL4BpXj"
      },
      "execution_count": null,
      "outputs": []
    },
    {
      "cell_type": "markdown",
      "source": [
        "\n",
        "\n",
        "*   **List**\n",
        "\n",
        "A list in R programming is a non-homogenous data structure implying that it can contain elements of different data types. In R, it is created using the list() function. \n"
      ],
      "metadata": {
        "id": "GAj5ZyF9BwcJ"
      }
    },
    {
      "cell_type": "code",
      "source": [
        "n<-c(2, 3, 5) #numeric\n",
        "s <- c(\"aa\", \"bb\", \"cc\", \"dd\", \"ee\") #character\n",
        "b <- c(TRUE, FALSE, TRUE, FALSE, FALSE) #logical\n",
        "x <- list(n, s, b, 3) # x contains copies of n, s, b\n",
        "x"
      ],
      "metadata": {
        "id": "qYopgBx5COHc"
      },
      "execution_count": null,
      "outputs": []
    },
    {
      "cell_type": "code",
      "source": [
        "class(x)"
      ],
      "metadata": {
        "id": "ySGL9I9yCiQ0"
      },
      "execution_count": null,
      "outputs": []
    },
    {
      "cell_type": "markdown",
      "source": [
        "\n",
        "\n",
        "*   **Data frame**\n",
        "\n",
        "A data frame is a list of vectors of equal length. It is used for storing data tables.\n"
      ],
      "metadata": {
        "id": "qSTiBnXkChOh"
      }
    },
    {
      "cell_type": "code",
      "source": [
        "my_dataframe <- data.frame(name=c(\"ram\",\"sita\",\"hari\",\"tara\",\"jakob\",\"tika\", \"reeju\",\"mirima\",\"abhijit\"),age=c(29,28,28,30,34,31,28,40,31)) "
      ],
      "metadata": {
        "id": "C2S0OQKpC3yO"
      },
      "execution_count": null,
      "outputs": []
    },
    {
      "cell_type": "code",
      "source": [
        "is.data.frame(my_dataframe)"
      ],
      "metadata": {
        "id": "SHaEoOfuC83C"
      },
      "execution_count": null,
      "outputs": []
    },
    {
      "cell_type": "markdown",
      "source": [
        "Let’s extract specific attributes from my_dataframe."
      ],
      "metadata": {
        "id": "Ft8c--SJC93Q"
      }
    },
    {
      "cell_type": "code",
      "source": [
        "my_dataframe$name "
      ],
      "metadata": {
        "id": "9AAhhXwKDCAj"
      },
      "execution_count": null,
      "outputs": []
    },
    {
      "cell_type": "code",
      "source": [
        "my_dataframe$age"
      ],
      "metadata": {
        "id": "tjptGhU7DHRT"
      },
      "execution_count": null,
      "outputs": []
    },
    {
      "cell_type": "markdown",
      "source": [
        "R also has ways to look at the dataset at a glance or as a whole."
      ],
      "metadata": {
        "id": "1Aois8N6DTg_"
      }
    },
    {
      "cell_type": "code",
      "source": [
        "dim(my_dataframe) "
      ],
      "metadata": {
        "id": "Z4oaQ1fGDlep"
      },
      "execution_count": null,
      "outputs": []
    },
    {
      "cell_type": "code",
      "source": [
        "str(my_dataframe)"
      ],
      "metadata": {
        "id": "86pe1oPjDlRr"
      },
      "execution_count": null,
      "outputs": []
    },
    {
      "cell_type": "code",
      "source": [
        "head(my_dataframe)"
      ],
      "metadata": {
        "id": "_XLxfQ2xDlGo"
      },
      "execution_count": null,
      "outputs": []
    },
    {
      "cell_type": "code",
      "source": [
        "tail(my_dataframe)"
      ],
      "metadata": {
        "id": "WlU0n9W7Dk6f"
      },
      "execution_count": null,
      "outputs": []
    },
    {
      "cell_type": "code",
      "source": [
        "colnames(my_dataframe)"
      ],
      "metadata": {
        "id": "tO9zBQ9FFLN8"
      },
      "execution_count": null,
      "outputs": []
    },
    {
      "cell_type": "markdown",
      "source": [
        "# **Looping in R**\n",
        "\n",
        "Looping is also called iterating or cycling. It is automating a multi-step process by organizing sequences of actions by grouping the parts that need to be repeated. Broadly, there are two types of loops in modern programming languages. Some loops execute for a specified number of times, as controlled by a counter or an index, incremented at each iteration cycle (the most famous one is the ***for loop***) whereas some loops are based on the onset and verification of a logical condition (examples includes ***while*** and ***repeat***)."
      ],
      "metadata": {
        "id": "1AY4OkjWLAva"
      }
    },
    {
      "cell_type": "markdown",
      "source": [
        "\n",
        "\n",
        "* **For loop**\n",
        "\n",
        "The syntax for a *for loop* is as follows, where ***val*** is the counter variable, ***sequence*** is the steps gone through by the counter (e.g. from 1 to 3, written as 1:3) and the ***statement*** is whatever needs to be executed at each step. \n",
        "\n",
        "for (val *in* sequence)\n",
        "\n",
        "{statement}\n",
        "\n",
        "In below example all variables will appear at the same time, as Google Collab is not able to output each step immediately. If you would run this code in your standalone R, all names would appear one after the other as you would expect in a loop."
      ],
      "metadata": {
        "id": "Q-JixxXaLdvs"
      }
    },
    {
      "cell_type": "code",
      "source": [
        "name <- c(\"Nepal\",\"Bhutan\",\"Pakistan\")\n",
        "for ( i in 1:3){\n",
        "  print(name[i])\n",
        "}"
      ],
      "metadata": {
        "id": "o_2Bm8BOLdYx"
      },
      "execution_count": null,
      "outputs": []
    },
    {
      "cell_type": "markdown",
      "source": [
        "\n",
        "*   **While loop in R**\n",
        "\n",
        "The syntax for a *while loop* is as follows, where the *test expression* is any kind of check on your data you would like to explore. Again, in your standalone R this check would be executed sequentially.\n",
        "\n",
        "while (test expression)\n",
        "\n",
        "{statement}\n"
      ],
      "metadata": {
        "id": "VQKzb9m5ozOj"
      }
    },
    {
      "cell_type": "code",
      "source": [
        "i <- 1\n",
        "while (i < 6){\n",
        "  print(i)\n",
        "  i = i+1\n",
        "}"
      ],
      "metadata": {
        "id": "Pf8J175BFcJ6"
      },
      "execution_count": null,
      "outputs": []
    },
    {
      "cell_type": "markdown",
      "source": [
        "*   **Repeat loop in R**\n",
        "\n",
        "The syntax for a *repeat loop* only includes a statement. It would go on forever until you tell it to stop (in this example with the ***break*** command).\n",
        "\n",
        "repeat {statement}\n",
        "\n"
      ],
      "metadata": {
        "id": "LCR9ZNJkpWJs"
      }
    },
    {
      "cell_type": "code",
      "source": [
        "x=1\n",
        "repeat{\n",
        "  print(x)\n",
        "  x=x+1\n",
        "  if (x ==7){\n",
        "    break }\n",
        "  }"
      ],
      "metadata": {
        "id": "eMMjSDi7puX6"
      },
      "execution_count": null,
      "outputs": []
    },
    {
      "cell_type": "markdown",
      "source": [
        "# **Conditional statement**\n",
        "A conditional statement is used for decision making. This can be achieved in R programming using the conditional ***if...else*** statement."
      ],
      "metadata": {
        "id": "3yKiJYQLqMqK"
      }
    },
    {
      "cell_type": "markdown",
      "source": [
        "##**if statement syntax**\n",
        "\n",
        "if(test expression)\n",
        "\n",
        "{statement}\n"
      ],
      "metadata": {
        "id": "YtVGcJUttbDP"
      }
    },
    {
      "cell_type": "code",
      "source": [
        "x <- 5\n",
        "if(x > 0){\n",
        "  print(\"Positive number\")\n",
        "}"
      ],
      "metadata": {
        "id": "YOhYqd7GtuDF"
      },
      "execution_count": null,
      "outputs": []
    },
    {
      "cell_type": "markdown",
      "source": [
        "## **if....else statement syntax**\n",
        "\n",
        "if (test expression)\n",
        "\n",
        "{statement1} else\n",
        "\n",
        "{statement2}\n",
        "\n"
      ],
      "metadata": {
        "id": "qNISJ46ztyJG"
      }
    },
    {
      "cell_type": "code",
      "source": [
        "x <- -5\n",
        "if(x > 0){\n",
        "  print(\"Non-negative number\")\n",
        "} else {\n",
        "  print(\"Negative number\")\n",
        "}"
      ],
      "metadata": {
        "id": "ixMXWAIHwM1z"
      },
      "execution_count": null,
      "outputs": []
    },
    {
      "cell_type": "markdown",
      "source": [
        "## **if...else ladder syntax**\n",
        "\n",
        "if (test expression)\n",
        "\n",
        "{statement1} else if\n",
        "\n",
        "{expression2} else if\n",
        "\n",
        "{statements3} else\n",
        "\n",
        "{statement4}\n"
      ],
      "metadata": {
        "id": "JogFWRUgwU4p"
      }
    },
    {
      "cell_type": "code",
      "source": [
        "x <- -5\n",
        "if (x < 0) {\n",
        "  print(\"Negative number\")} else if(x > 0) {\n",
        "    print(\"Positive number\")}else{\n",
        "      print(\"Zero\")\n",
        "    }"
      ],
      "metadata": {
        "id": "628EhGPMw6Fi"
      },
      "execution_count": null,
      "outputs": []
    },
    {
      "cell_type": "markdown",
      "source": [
        "#**Basic data visualization**\n",
        "\n",
        "The graphics package is used for plotting base graphs like scatter plot, box plot, line plot etc. Plotting commands in R are categorized into two basic groups. \n",
        "\n",
        "##**High-level plotting functions**\n",
        "These functions create a new plot on the graphics device, possibly with axes, labels, titles and so on. Some of the basic plot functions includes:\n",
        "\n",
        "\n",
        "|Functions|\tDescriptions|\n",
        "|---------|--------------|\n",
        "|plot()|\tScatter/line plot|\n",
        "|boxplot()|\tHistogram|\n",
        "|pie()|\tPie chart|\n",
        "|hist()|\tBox plot|\n",
        "|barplot()|\tBar plot|\n",
        "\n",
        "We'll now explore some examples with dummy data below. Remember best practices for plots:\n",
        "\n",
        "(a) Plots need axis labels that are self explanatory. \n",
        "(b) Labels should always be large enough to read in the final output.\n"
      ],
      "metadata": {
        "id": "Y5zfZ67ww_Uw"
      }
    },
    {
      "cell_type": "code",
      "source": [
        "#plotting using plot() command\n",
        "x <- rnorm(20) #rnorm: normal distribution function, creating random number\n",
        "\n",
        "##Scatter plot of single vector\n",
        "plot(x) #Data will be plotted against its index (1,2,3....., n)\n",
        "##Scatter plot of two vectors x and y\n",
        "y <- 2*x+rnorm(length(x))\n",
        "plot(x,y) #Length of x and y should be the same."
      ],
      "metadata": {
        "id": "s5B3l17p0F1_"
      },
      "execution_count": null,
      "outputs": []
    },
    {
      "cell_type": "markdown",
      "source": [
        "The plot() command has many arguments in itself.\n",
        "\n",
        "***type=“string”*** #The argument controls the type of plot produced.\n",
        "\n",
        "\n",
        "> “p” for plotting individual points (default)\n",
        "\n",
        ">“l” for line plot\n",
        "\n",
        ">“b” for plotting points connected by lines \n",
        "\n",
        ">“o” for plotting points overlaid by lines \n",
        "\n",
        ">“h” for plotting vertical lines from points to zero axis \n",
        "\n",
        ">“n” No plotting at all. \n",
        "\n",
        "However axes are still drawn (by default) and the coordinate system is set up according to the data. Ideal for creating plots with subsequent low-level graphics functions.\n",
        "\n",
        "> axes= “FALSE” \n",
        "\n",
        "Suppresses generation of axes-useful for adding your own custom axes with the ***axis*** function. The default, axes=“TRUE”, includes axes\n",
        "\n",
        "> xlab=“string” #X-axis label of the plot \n",
        "\n",
        "> ylab=“string” #Y-axis label of the plot\n",
        "\n",
        "> main= “string” #Title of the plot \n",
        "\n",
        "> sub= “string” #Sub title of the plot \n",
        "\n",
        "> col= “string” #Change the color of graph “red”, “blue”, “black”, “gray”, “green” etc.\n",
        "\n",
        "> lwd= numeric #Specify the width of line.\n",
        "\n",
        "> lty=numeric #Specify the type of the line (0 for blank, 1 for solid line, 2 for dashed line, 3 for dotted line, 4 for dot-dash line, 5 for long dash line, 6 for two dash line)\n",
        "\n",
        "> pch=numeric #Specify the type points \n",
        "\n",
        "![Picture1.png](data:image/png;base64,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)"
      ],
      "metadata": {
        "id": "t1wr9pSk0WOm"
      }
    },
    {
      "cell_type": "code",
      "source": [
        "x <- 1:100/100\n",
        "y <- 3*x+rnorm(100,sd=0.2)\n",
        "plot(x, y, type=\"l\") #Draws a line graph"
      ],
      "metadata": {
        "id": "q5PTrhj70bKb"
      },
      "execution_count": null,
      "outputs": []
    },
    {
      "cell_type": "code",
      "source": [
        "plot(x, y, type=\"l\", col= \"blue\") #Change the color of the line"
      ],
      "metadata": {
        "id": "78BgEWRCARGS"
      },
      "execution_count": null,
      "outputs": []
    },
    {
      "cell_type": "code",
      "source": [
        "plot(x, y, type=\"l\", col= \"blue\", lwd=2) #Change the width of the line"
      ],
      "metadata": {
        "id": "ktEacEdeAUef"
      },
      "execution_count": null,
      "outputs": []
    },
    {
      "cell_type": "code",
      "source": [
        "plot(x, y, type=\"l\", xlab= \"XLABEL\", ylab= \"YLABEL\", main= \"XY Line plot in R\") \n",
        "#Adds the x-axis label, y-axis label and title of the plot"
      ],
      "metadata": {
        "id": "YNnAC99HAUUu"
      },
      "execution_count": null,
      "outputs": []
    },
    {
      "cell_type": "code",
      "source": [
        "##Boxplot\n",
        "xy <- data.frame(x,y) \n",
        "boxplot(xy,names = c('X something','Y something'),col=c('red','blue'))"
      ],
      "metadata": {
        "id": "KytEiSbnAUKU"
      },
      "execution_count": null,
      "outputs": []
    },
    {
      "cell_type": "code",
      "source": [
        "##Pie Chart\n",
        "student <- c(45,60,55,70,86,65)\n",
        "subj <- c(\"English\", \"Science\", \"Math\", \"Social\", \"HP\", 'Nepali')\n",
        "pie(student, labels =subj, main=\"Pie Chart Student result SEE\")"
      ],
      "metadata": {
        "id": "nJj-u62GAqaQ"
      },
      "execution_count": null,
      "outputs": []
    },
    {
      "cell_type": "code",
      "source": [
        "#pie chart with extra text\n",
        "pct <- round(student/sum(student)*100) #in percentage\n",
        "lbls <- paste(subj, pct) # add percents to labels\n",
        "lbls <- paste(lbls,\"%\",sep=\"\") # ad % to labels\n",
        "pie(student,labels = lbls, col=rainbow(length(lbls)),\n",
        "    main=\"Pie Chart Student result SEE\")\n"
      ],
      "metadata": {
        "id": "_Q5bWSO3A5vi"
      },
      "execution_count": null,
      "outputs": []
    },
    {
      "cell_type": "code",
      "source": [
        "##Barplot\n",
        "barplot(student, names.arg=subj, ylab =\"Marks\")\t"
      ],
      "metadata": {
        "id": "uKeVqsJfA5hk"
      },
      "execution_count": null,
      "outputs": []
    },
    {
      "cell_type": "markdown",
      "source": [
        "##**Low-level plotting functions**\n",
        "\n",
        "Low-level plotting functions can be executed only after a high-level plot has been created. These functions add more information to an existing plot, such as extra points, lines and labels. Some of the basic plot functions includes: \n",
        "\n",
        "|Functions|\tDescriptions|\n",
        "|----------|------------|\n",
        "|points()|\tAdd points|\n",
        "|lines()|\tAdd a line plot|\n",
        "|abline()|\tAdd a straight line\n",
        "|text()|\tInsert text\n",
        "|legends()|\tAdd legend\n",
        "|title()|\tAdd a title\n",
        "|axis()|\tManipulate axes\n"
      ],
      "metadata": {
        "id": "7fOiFHVtBF2I"
      }
    },
    {
      "cell_type": "code",
      "source": [
        "# Lets create a simple line plot first\n",
        "z <-3 * x +rnorm(100,sd =0.1)\n",
        "plot(y, type =\"l\",xlab =\"Index\", ylab =\"Values (unit)\")"
      ],
      "metadata": {
        "id": "J3RyCokYB3Tr"
      },
      "execution_count": null,
      "outputs": []
    },
    {
      "cell_type": "code",
      "source": [
        "# Now we add some data points\n",
        "plot(y, type =\"l\",xlab =\"Index\", ylab =\"Values (unit)\")\n",
        "points(y, pch = 3, col =\"blue\") #plotting 'character', i.e., symbol to use"
      ],
      "metadata": {
        "id": "W9tVnRByB_0j"
      },
      "execution_count": null,
      "outputs": []
    },
    {
      "cell_type": "code",
      "source": [
        "# ... and even more data\n",
        "plot(y, type =\"l\",xlab =\"Index\", ylab =\"Values (unit)\")\n",
        "points(y, pch = 3, col =\"blue\") #plotting 'character', i.e., symbol to use\n",
        "points(z, pch = 2, col =\"green\")"
      ],
      "metadata": {
        "id": "BNZERBF5CCgu"
      },
      "execution_count": null,
      "outputs": []
    },
    {
      "cell_type": "code",
      "source": [
        "# ... and another line\n",
        "plot(y, type =\"l\",xlab =\"Index\", ylab =\"Values (unit)\")\n",
        "points(y, pch = 3, col =\"blue\") #plotting 'character', i.e., symbol to use\n",
        "points(z, pch = 2, col =\"green\")\n",
        "lines(y*0.8, col =\"red\")"
      ],
      "metadata": {
        "id": "9y_rWOLXCEhV"
      },
      "execution_count": null,
      "outputs": []
    },
    {
      "cell_type": "code",
      "source": [
        "# ... and finally a legend\n",
        "plot(y, type =\"l\",xlab =\"Index\", ylab =\"Values (unit)\")\n",
        "points(y, pch = 3, col =\"blue\") #plotting 'character', i.e., symbol to use\n",
        "points(z, pch = 2, col =\"green\")\n",
        "lines(y*0.8, col =\"red\")\n",
        "legend('topleft',lty = c(NA,NA,1, 1),pch = c(3, 2,NA,NA), col = c(\"blue\", \"green\",'black','red'), legend = c(\"y points\", \n",
        "\"z points\",'y point data','skewed y point data'))"
      ],
      "metadata": {
        "id": "bQcuwEk2CHMT"
      },
      "execution_count": null,
      "outputs": []
    },
    {
      "cell_type": "code",
      "source": [
        "# You can also add horizontal lines to your plot\n",
        "plot(y, type =\"l\",xlab =\"Index\", ylab =\"Values (unit)\")\n",
        "points(y, pch = 3, col =\"blue\") #plotting 'character', i.e., symbol to use\n",
        "points(z, pch = 2, col =\"green\")\n",
        "lines(y*0.8, col =\"red\")\n",
        "legend('topleft',lty = c(NA,NA,1, 1),pch = c(3, 2,NA,NA), col = c(\"blue\", \"green\",'black','red'), legend = c(\"y points\", \n",
        "\"z points\",'y point data','skewed y point data'))\n",
        "abline(h=mean(y),col =2,lty =1,lwd =2) #used to add straight line\n"
      ],
      "metadata": {
        "id": "jeP6I9NkCI26"
      },
      "execution_count": null,
      "outputs": []
    },
    {
      "cell_type": "markdown",
      "source": [
        "#Exporting a plot to a file"
      ],
      "metadata": {
        "id": "NIdeJUNdk4ot"
      }
    },
    {
      "cell_type": "markdown",
      "source": [
        "There are many different ways to export plots in R. You can export them directly as a .jpeg with the ***jpeg*** command, as a .png with the ***png*** command or even as a .tiff with ***tiff***. Basically any format is possible. Below we just show one. Within the command you can specify the size of the image (using *width* and *height*) as well as the resolution in dpi, using *res*.\n",
        "\n",
        "Here in Collab the file will just be stored to your drive. In your standalone version you will need to specify the full path under the filename, where you want your export to be stored to."
      ],
      "metadata": {
        "id": "4Dkt_0idRRba"
      }
    },
    {
      "cell_type": "code",
      "source": [
        "jpeg(\"PLOT1.jpg\", res=300, unit='in', width=8, height=5)\n",
        "#create a plot \n",
        "barplot(student, names.arg=subj, ylab =\"Marks\")\n",
        "#close the file \n",
        "dev.off()\n"
      ],
      "metadata": {
        "id": "Y7xUjDukk4B8"
      },
      "execution_count": null,
      "outputs": []
    },
    {
      "cell_type": "markdown",
      "source": [
        "**That's all for Basic of R**\n",
        "\n",
        "Note that this is just an exercise - for your future work you will be working on a standalone version of R, where you can change around things as you please. But be sure to stick to clean and clear code. And if you are stuck somewhere, there are excellent resources online (like stackoverflow.com) that will help you out."
      ],
      "metadata": {
        "id": "fIQnA_s8Hdsq"
      }
    }
  ]
}